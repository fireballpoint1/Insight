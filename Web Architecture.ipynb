{
 "cells": [
  {
   "cell_type": "markdown",
   "metadata": {},
   "source": [
    "# Web Architecture\n",
    "\n",
    "_This notebook demonstrates how a server can now serve the client with predictions, and also with real-time data coming in through the app that the user is tracking metrics for._\n",
    "\n",
    "_The user receives the data from the server and then can track it on their own device._"
   ]
  },
  {
   "cell_type": "markdown",
   "metadata": {},
   "source": [
    "## Imports"
   ]
  },
  {
   "cell_type": "code",
   "execution_count": 1,
   "metadata": {
    "ExecuteTime": {
     "end_time": "2019-08-25T19:42:54.539136Z",
     "start_time": "2019-08-25T19:42:54.531692Z"
    }
   },
   "outputs": [],
   "source": [
    "from http.server import BaseHTTPRequestHandler, HTTPServer\n",
    "import logging\n",
    "import multiprocessing\n",
    "import json\n",
    "import pickle\n",
    "import random\n",
    "import time\n",
    "import datetime\n",
    "from IPython.display import IFrame"
   ]
  },
  {
   "cell_type": "markdown",
   "metadata": {},
   "source": [
    "## Server"
   ]
  },
  {
   "cell_type": "code",
   "execution_count": 76,
   "metadata": {
    "ExecuteTime": {
     "end_time": "2019-08-25T22:24:51.226377Z",
     "start_time": "2019-08-25T22:24:51.207599Z"
    },
    "scrolled": true
   },
   "outputs": [
    {
     "name": "stderr",
     "output_type": "stream",
     "text": [
      "INFO:root:Starting httpd at <localhost:9090>...\n",
      "\n"
     ]
    }
   ],
   "source": [
    "# Variables\n",
    "DOMAIN = 'localhost'\n",
    "PORT = 9090\n",
    "URL = 'localhost:{port}'.format(port=PORT)\n",
    "\n",
    "class S(BaseHTTPRequestHandler):\n",
    "    def _set_response_html(self):\n",
    "        self.send_response(200)\n",
    "        self.send_header(\"Access-Control-Allow-Origin\", \"*\")\n",
    "        self.send_header('Content-type', 'text/html')\n",
    "        self.end_headers()\n",
    "        \n",
    "    def _set_response_json(self):\n",
    "        self.send_response(200)\n",
    "        self.send_header(\"Access-Control-Allow-Origin\", \"*\")\n",
    "        self.send_header('Content-type', 'application/json')\n",
    "        self.end_headers()\n",
    "\n",
    "    def do_GET(self):\n",
    "        logging.info(\"GET request,\\nPath: %s\\nHeaders:\\n%s\\n\", \n",
    "                     str(self.path), str(self.headers))\n",
    "        self._set_response_html()\n",
    "        self.wfile.write(\"GET request for {}\\n\".\\\n",
    "                         format(self.path).encode('utf-8'))\n",
    "        \n",
    "    def do_POST(self):\n",
    "        # Get the size of data\n",
    "        content_length = int(self.headers['Content-Length'])\n",
    "        # Get the data itself\n",
    "        post_data = self.rfile.read(content_length)\n",
    "        logging.info(\"POST request,\\nPath: %s\\nHeaders:\\n%s\\n\\nBody:\\n%s\\n\",\n",
    "                     str(self.path), str(self.headers), \n",
    "                     json.loads(post_data.decode('utf-8')))\n",
    "        \n",
    "        msg = self.gen_reply(json.loads(post_data.decode('utf-8')))\n",
    "        \n",
    "        self._set_response_json()\n",
    "        self.wfile.write(json.dumps(msg).encode('utf-8'))\n",
    "        \n",
    "    def gen_reply(self, obj):         \n",
    "        msg = {'entity': 'server'}\n",
    "        if obj['subj'] == 'handshake':\n",
    "            msg['subj'] = 'handshake'\n",
    "            with open('observations_'+obj['event_name']+'.pkl', 'rb') as f:    \n",
    "                data = pickle.load(f)\n",
    "            with open('predictions_'+obj['event_name']+'_2000.pkl', 'rb') as f:    \n",
    "                fcst = pickle.load(f)\n",
    "            msg['ds'] = [datetime.datetime.timestamp(x) for x in fcst.ds] # datestamps\n",
    "            msg['y'] = [y for y in data.y] # observations\n",
    "            msg['yhat'] = [yhat for yhat in fcst.yhat] # predictions\n",
    "            \n",
    "        elif obj['subj'] == 'polling':\n",
    "            with open('predictions_'+obj['event_name']+'_2000.pkl', 'rb') as f:    \n",
    "                fcst = pickle.load(f)\n",
    "            msg['subj'] = 'polling'\n",
    "            msg['ds'] = datetime.datetime.timestamp(datetime.datetime.now())\n",
    "            msg['y'] = random.choice([yhat for yhat in fcst.yhat])\n",
    "            \n",
    "        return msg\n",
    "        \n",
    "def run(server_class=HTTPServer, handler_class=S, port=8080):\n",
    "    logging.basicConfig(level=logging.INFO)\n",
    "    server_address = (DOMAIN, PORT)\n",
    "    httpd = server_class(server_address, handler_class)\n",
    "    logging.info('Starting httpd at <%s>...\\n'%URL)\n",
    "    try:\n",
    "        httpd.serve_forever()\n",
    "    except KeyboardInterrupt:\n",
    "        pass\n",
    "    httpd.server_close()\n",
    "    logging.info('Stopping httpd...\\n')\n",
    "\n",
    "# start the server as a separate process\n",
    "server_process = multiprocessing.Process(target=run)\n",
    "server_process.daemon = True\n",
    "server_process.start()"
   ]
  },
  {
   "cell_type": "markdown",
   "metadata": {},
   "source": [
    "## Client"
   ]
  },
  {
   "cell_type": "markdown",
   "metadata": {},
   "source": [
    "The client can now track the live event count for the event named **_fL_**, and compare it to the predicted numbers, as well as see historical figures for the metric;"
   ]
  },
  {
   "cell_type": "code",
   "execution_count": 77,
   "metadata": {
    "ExecuteTime": {
     "end_time": "2019-08-25T22:24:53.637604Z",
     "start_time": "2019-08-25T22:24:53.634076Z"
    },
    "scrolled": false
   },
   "outputs": [
    {
     "data": {
      "text/html": [
       "\n",
       "        <iframe\n",
       "            width=\"700\"\n",
       "            height=\"320\"\n",
       "            src=\"web/client.html\"\n",
       "            frameborder=\"0\"\n",
       "            allowfullscreen\n",
       "        ></iframe>\n",
       "        "
      ],
      "text/plain": [
       "<IPython.lib.display.IFrame at 0x1520f0fadcf8>"
      ]
     },
     "execution_count": 77,
     "metadata": {},
     "output_type": "execute_result"
    }
   ],
   "source": [
    "IFrame(src='web/client.html', width=700, height=320)"
   ]
  },
  {
   "cell_type": "markdown",
   "metadata": {},
   "source": [
    "## Server Shutdown"
   ]
  },
  {
   "cell_type": "code",
   "execution_count": 82,
   "metadata": {
    "ExecuteTime": {
     "end_time": "2019-08-25T22:25:12.882256Z",
     "start_time": "2019-08-25T22:25:12.880199Z"
    }
   },
   "outputs": [],
   "source": [
    "# stop the server\n",
    "server_process.terminate()"
   ]
  }
 ],
 "metadata": {
  "kernelspec": {
   "display_name": "Python 3",
   "language": "python",
   "name": "python3"
  },
  "language_info": {
   "codemirror_mode": {
    "name": "ipython",
    "version": 3
   },
   "file_extension": ".py",
   "mimetype": "text/x-python",
   "name": "python",
   "nbconvert_exporter": "python",
   "pygments_lexer": "ipython3",
   "version": "3.5.2"
  },
  "varInspector": {
   "cols": {
    "lenName": 16,
    "lenType": 16,
    "lenVar": 40
   },
   "kernels_config": {
    "python": {
     "delete_cmd_postfix": "",
     "delete_cmd_prefix": "del ",
     "library": "var_list.py",
     "varRefreshCmd": "print(var_dic_list())"
    },
    "r": {
     "delete_cmd_postfix": ") ",
     "delete_cmd_prefix": "rm(",
     "library": "var_list.r",
     "varRefreshCmd": "cat(var_dic_list()) "
    }
   },
   "types_to_exclude": [
    "module",
    "function",
    "builtin_function_or_method",
    "instance",
    "_Feature"
   ],
   "window_display": false
  }
 },
 "nbformat": 4,
 "nbformat_minor": 2
}
